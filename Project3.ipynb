{
 "cells": [
  {
   "cell_type": "markdown",
   "metadata": {},
   "source": [
    "## Data 620 - Project 3\n",
    "#### Gabriel Santos \n",
    "#### Date: 03-22-2023 "
   ]
  },
  {
   "cell_type": "markdown",
   "metadata": {},
   "source": [
    "### Description"
   ]
  },
  {
   "cell_type": "markdown",
   "metadata": {},
   "source": [
    "The goal of this project is to create the best name classifier by genre. First, I divide the Corpus of names into subsets, test set and training set. Then with the gender classifier for names, I make incremental improvements. I check the progress with the test set. Once you are satisfied with the classifier, I check the final performance on the test set. I can compare how performance is performing on the test set versus the training set."
   ]
  },
  {
   "cell_type": "markdown",
   "metadata": {},
   "source": [
    "### Load library"
   ]
  },
  {
   "cell_type": "code",
   "execution_count": 2,
   "metadata": {},
   "outputs": [],
   "source": [
    "import random\n",
    "from collections import Counter\n",
    "import nltk\n",
    "from nltk import download\n",
    "from nltk.corpus import names\n",
    "from nltk.util import ngrams\n",
    "from nltk.tokenize.sonority_sequencing import SyllableTokenizer\n",
    "from nltk import NaiveBayesClassifier\n",
    "import matplotlib.pyplot as plt\n",
    "import seaborn as sns\n",
    "import string\n",
    "import re\n",
    "import pandas as pd\n",
    "import numpy as np\n",
    "from IPython.core.interactiveshell import InteractiveShell\n",
    "InteractiveShell.ast_node_interactivity = \"all\""
   ]
  },
  {
   "cell_type": "markdown",
   "metadata": {},
   "source": [
    "### Data preparation"
   ]
  },
  {
   "cell_type": "markdown",
   "metadata": {},
   "source": [
    "I'll load the corpus into memory, tag all the names for later use. I need to randomize the list of names so that both the test and training datasets contain both genders."
   ]
  },
  {
   "cell_type": "markdown",
   "metadata": {},
   "source": [
    "### Load data"
   ]
  },
  {
   "cell_type": "markdown",
   "metadata": {},
   "source": [
    "Read in names from the files and names to be lower case for easy recognition. Another important step is to remove unisex names from the lists because the same name may appear with different genders on the test and training lists."
   ]
  },
  {
   "cell_type": "code",
   "execution_count": 3,
   "metadata": {},
   "outputs": [
    {
     "name": "stderr",
     "output_type": "stream",
     "text": [
      "[nltk_data] Downloading package names to\n",
      "[nltk_data]     C:\\Users\\tqkar\\AppData\\Roaming\\nltk_data...\n",
      "[nltk_data]   Package names is already up-to-date!\n"
     ]
    },
    {
     "data": {
      "text/plain": [
       "True"
      ]
     },
     "execution_count": 3,
     "metadata": {},
     "output_type": "execute_result"
    },
    {
     "data": {
      "text/plain": [
       "[None,\n",
       " None,\n",
       " None,\n",
       " None,\n",
       " None,\n",
       " None,\n",
       " None,\n",
       " None,\n",
       " None,\n",
       " None,\n",
       " None,\n",
       " None,\n",
       " None,\n",
       " None,\n",
       " None,\n",
       " None,\n",
       " None,\n",
       " None,\n",
       " None,\n",
       " None,\n",
       " None,\n",
       " None,\n",
       " None,\n",
       " None,\n",
       " None,\n",
       " None,\n",
       " None,\n",
       " None,\n",
       " None,\n",
       " None,\n",
       " None,\n",
       " None,\n",
       " None,\n",
       " None,\n",
       " None,\n",
       " None,\n",
       " None,\n",
       " None,\n",
       " None,\n",
       " None,\n",
       " None,\n",
       " None,\n",
       " None,\n",
       " None,\n",
       " None,\n",
       " None,\n",
       " None,\n",
       " None,\n",
       " None,\n",
       " None,\n",
       " None,\n",
       " None,\n",
       " None,\n",
       " None,\n",
       " None,\n",
       " None,\n",
       " None,\n",
       " None,\n",
       " None,\n",
       " None,\n",
       " None,\n",
       " None,\n",
       " None,\n",
       " None,\n",
       " None,\n",
       " None,\n",
       " None,\n",
       " None,\n",
       " None,\n",
       " None,\n",
       " None,\n",
       " None,\n",
       " None,\n",
       " None,\n",
       " None,\n",
       " None,\n",
       " None,\n",
       " None,\n",
       " None,\n",
       " None,\n",
       " None,\n",
       " None,\n",
       " None,\n",
       " None,\n",
       " None,\n",
       " None,\n",
       " None,\n",
       " None,\n",
       " None,\n",
       " None,\n",
       " None,\n",
       " None,\n",
       " None,\n",
       " None,\n",
       " None,\n",
       " None,\n",
       " None,\n",
       " None,\n",
       " None,\n",
       " None,\n",
       " None,\n",
       " None,\n",
       " None,\n",
       " None,\n",
       " None,\n",
       " None,\n",
       " None,\n",
       " None,\n",
       " None,\n",
       " None,\n",
       " None,\n",
       " None,\n",
       " None,\n",
       " None,\n",
       " None,\n",
       " None,\n",
       " None,\n",
       " None,\n",
       " None,\n",
       " None,\n",
       " None,\n",
       " None,\n",
       " None,\n",
       " None,\n",
       " None,\n",
       " None,\n",
       " None,\n",
       " None,\n",
       " None,\n",
       " None,\n",
       " None,\n",
       " None,\n",
       " None,\n",
       " None,\n",
       " None,\n",
       " None,\n",
       " None,\n",
       " None,\n",
       " None,\n",
       " None,\n",
       " None,\n",
       " None,\n",
       " None,\n",
       " None,\n",
       " None,\n",
       " None,\n",
       " None,\n",
       " None,\n",
       " None,\n",
       " None,\n",
       " None,\n",
       " None,\n",
       " None,\n",
       " None,\n",
       " None,\n",
       " None,\n",
       " None,\n",
       " None,\n",
       " None,\n",
       " None,\n",
       " None,\n",
       " None,\n",
       " None,\n",
       " None,\n",
       " None,\n",
       " None,\n",
       " None,\n",
       " None,\n",
       " None,\n",
       " None,\n",
       " None,\n",
       " None,\n",
       " None,\n",
       " None,\n",
       " None,\n",
       " None,\n",
       " None,\n",
       " None,\n",
       " None,\n",
       " None,\n",
       " None,\n",
       " None,\n",
       " None,\n",
       " None,\n",
       " None,\n",
       " None,\n",
       " None,\n",
       " None,\n",
       " None,\n",
       " None,\n",
       " None,\n",
       " None,\n",
       " None,\n",
       " None,\n",
       " None,\n",
       " None,\n",
       " None,\n",
       " None,\n",
       " None,\n",
       " None,\n",
       " None,\n",
       " None,\n",
       " None,\n",
       " None,\n",
       " None,\n",
       " None,\n",
       " None,\n",
       " None,\n",
       " None,\n",
       " None,\n",
       " None,\n",
       " None,\n",
       " None,\n",
       " None,\n",
       " None,\n",
       " None,\n",
       " None,\n",
       " None,\n",
       " None,\n",
       " None,\n",
       " None,\n",
       " None,\n",
       " None,\n",
       " None,\n",
       " None,\n",
       " None,\n",
       " None,\n",
       " None,\n",
       " None,\n",
       " None,\n",
       " None,\n",
       " None,\n",
       " None,\n",
       " None,\n",
       " None,\n",
       " None,\n",
       " None,\n",
       " None,\n",
       " None,\n",
       " None,\n",
       " None,\n",
       " None,\n",
       " None,\n",
       " None,\n",
       " None,\n",
       " None,\n",
       " None,\n",
       " None,\n",
       " None,\n",
       " None,\n",
       " None,\n",
       " None,\n",
       " None,\n",
       " None,\n",
       " None,\n",
       " None,\n",
       " None,\n",
       " None,\n",
       " None,\n",
       " None,\n",
       " None,\n",
       " None,\n",
       " None,\n",
       " None,\n",
       " None,\n",
       " None,\n",
       " None,\n",
       " None,\n",
       " None,\n",
       " None,\n",
       " None,\n",
       " None,\n",
       " None,\n",
       " None,\n",
       " None,\n",
       " None,\n",
       " None,\n",
       " None,\n",
       " None,\n",
       " None,\n",
       " None,\n",
       " None,\n",
       " None,\n",
       " None,\n",
       " None,\n",
       " None,\n",
       " None,\n",
       " None,\n",
       " None,\n",
       " None,\n",
       " None,\n",
       " None,\n",
       " None,\n",
       " None,\n",
       " None,\n",
       " None,\n",
       " None,\n",
       " None,\n",
       " None,\n",
       " None,\n",
       " None,\n",
       " None,\n",
       " None,\n",
       " None,\n",
       " None,\n",
       " None,\n",
       " None,\n",
       " None,\n",
       " None,\n",
       " None,\n",
       " None,\n",
       " None,\n",
       " None,\n",
       " None,\n",
       " None,\n",
       " None,\n",
       " None,\n",
       " None,\n",
       " None,\n",
       " None,\n",
       " None,\n",
       " None,\n",
       " None,\n",
       " None,\n",
       " None,\n",
       " None,\n",
       " None,\n",
       " None,\n",
       " None,\n",
       " None,\n",
       " None,\n",
       " None,\n",
       " None,\n",
       " None,\n",
       " None,\n",
       " None,\n",
       " None,\n",
       " None,\n",
       " None,\n",
       " None,\n",
       " None,\n",
       " None,\n",
       " None,\n",
       " None,\n",
       " None,\n",
       " None,\n",
       " None,\n",
       " None,\n",
       " None,\n",
       " None,\n",
       " None,\n",
       " None,\n",
       " None,\n",
       " None,\n",
       " None,\n",
       " None,\n",
       " None,\n",
       " None,\n",
       " None,\n",
       " None,\n",
       " None,\n",
       " None,\n",
       " None,\n",
       " None,\n",
       " None]"
      ]
     },
     "execution_count": 3,
     "metadata": {},
     "output_type": "execute_result"
    },
    {
     "data": {
      "text/plain": [
       "[None,\n",
       " None,\n",
       " None,\n",
       " None,\n",
       " None,\n",
       " None,\n",
       " None,\n",
       " None,\n",
       " None,\n",
       " None,\n",
       " None,\n",
       " None,\n",
       " None,\n",
       " None,\n",
       " None,\n",
       " None,\n",
       " None,\n",
       " None,\n",
       " None,\n",
       " None,\n",
       " None,\n",
       " None,\n",
       " None,\n",
       " None,\n",
       " None,\n",
       " None,\n",
       " None,\n",
       " None,\n",
       " None,\n",
       " None,\n",
       " None,\n",
       " None,\n",
       " None,\n",
       " None,\n",
       " None,\n",
       " None,\n",
       " None,\n",
       " None,\n",
       " None,\n",
       " None,\n",
       " None,\n",
       " None,\n",
       " None,\n",
       " None,\n",
       " None,\n",
       " None,\n",
       " None,\n",
       " None,\n",
       " None,\n",
       " None,\n",
       " None,\n",
       " None,\n",
       " None,\n",
       " None,\n",
       " None,\n",
       " None,\n",
       " None,\n",
       " None,\n",
       " None,\n",
       " None,\n",
       " None,\n",
       " None,\n",
       " None,\n",
       " None,\n",
       " None,\n",
       " None,\n",
       " None,\n",
       " None,\n",
       " None,\n",
       " None,\n",
       " None,\n",
       " None,\n",
       " None,\n",
       " None,\n",
       " None,\n",
       " None,\n",
       " None,\n",
       " None,\n",
       " None,\n",
       " None,\n",
       " None,\n",
       " None,\n",
       " None,\n",
       " None,\n",
       " None,\n",
       " None,\n",
       " None,\n",
       " None,\n",
       " None,\n",
       " None,\n",
       " None,\n",
       " None,\n",
       " None,\n",
       " None,\n",
       " None,\n",
       " None,\n",
       " None,\n",
       " None,\n",
       " None,\n",
       " None,\n",
       " None,\n",
       " None,\n",
       " None,\n",
       " None,\n",
       " None,\n",
       " None,\n",
       " None,\n",
       " None,\n",
       " None,\n",
       " None,\n",
       " None,\n",
       " None,\n",
       " None,\n",
       " None,\n",
       " None,\n",
       " None,\n",
       " None,\n",
       " None,\n",
       " None,\n",
       " None,\n",
       " None,\n",
       " None,\n",
       " None,\n",
       " None,\n",
       " None,\n",
       " None,\n",
       " None,\n",
       " None,\n",
       " None,\n",
       " None,\n",
       " None,\n",
       " None,\n",
       " None,\n",
       " None,\n",
       " None,\n",
       " None,\n",
       " None,\n",
       " None,\n",
       " None,\n",
       " None,\n",
       " None,\n",
       " None,\n",
       " None,\n",
       " None,\n",
       " None,\n",
       " None,\n",
       " None,\n",
       " None,\n",
       " None,\n",
       " None,\n",
       " None,\n",
       " None,\n",
       " None,\n",
       " None,\n",
       " None,\n",
       " None,\n",
       " None,\n",
       " None,\n",
       " None,\n",
       " None,\n",
       " None,\n",
       " None,\n",
       " None,\n",
       " None,\n",
       " None,\n",
       " None,\n",
       " None,\n",
       " None,\n",
       " None,\n",
       " None,\n",
       " None,\n",
       " None,\n",
       " None,\n",
       " None,\n",
       " None,\n",
       " None,\n",
       " None,\n",
       " None,\n",
       " None,\n",
       " None,\n",
       " None,\n",
       " None,\n",
       " None,\n",
       " None,\n",
       " None,\n",
       " None,\n",
       " None,\n",
       " None,\n",
       " None,\n",
       " None,\n",
       " None,\n",
       " None,\n",
       " None,\n",
       " None,\n",
       " None,\n",
       " None,\n",
       " None,\n",
       " None,\n",
       " None,\n",
       " None,\n",
       " None,\n",
       " None,\n",
       " None,\n",
       " None,\n",
       " None,\n",
       " None,\n",
       " None,\n",
       " None,\n",
       " None,\n",
       " None,\n",
       " None,\n",
       " None,\n",
       " None,\n",
       " None,\n",
       " None,\n",
       " None,\n",
       " None,\n",
       " None,\n",
       " None,\n",
       " None,\n",
       " None,\n",
       " None,\n",
       " None,\n",
       " None,\n",
       " None,\n",
       " None,\n",
       " None,\n",
       " None,\n",
       " None,\n",
       " None,\n",
       " None,\n",
       " None,\n",
       " None,\n",
       " None,\n",
       " None,\n",
       " None,\n",
       " None,\n",
       " None,\n",
       " None,\n",
       " None,\n",
       " None,\n",
       " None,\n",
       " None,\n",
       " None,\n",
       " None,\n",
       " None,\n",
       " None,\n",
       " None,\n",
       " None,\n",
       " None,\n",
       " None,\n",
       " None,\n",
       " None,\n",
       " None,\n",
       " None,\n",
       " None,\n",
       " None,\n",
       " None,\n",
       " None,\n",
       " None,\n",
       " None,\n",
       " None,\n",
       " None,\n",
       " None,\n",
       " None,\n",
       " None,\n",
       " None,\n",
       " None,\n",
       " None,\n",
       " None,\n",
       " None,\n",
       " None,\n",
       " None,\n",
       " None,\n",
       " None,\n",
       " None,\n",
       " None,\n",
       " None,\n",
       " None,\n",
       " None,\n",
       " None,\n",
       " None,\n",
       " None,\n",
       " None,\n",
       " None,\n",
       " None,\n",
       " None,\n",
       " None,\n",
       " None,\n",
       " None,\n",
       " None,\n",
       " None,\n",
       " None,\n",
       " None,\n",
       " None,\n",
       " None,\n",
       " None,\n",
       " None,\n",
       " None,\n",
       " None,\n",
       " None,\n",
       " None,\n",
       " None,\n",
       " None,\n",
       " None,\n",
       " None,\n",
       " None,\n",
       " None,\n",
       " None,\n",
       " None,\n",
       " None,\n",
       " None,\n",
       " None,\n",
       " None,\n",
       " None,\n",
       " None,\n",
       " None,\n",
       " None,\n",
       " None,\n",
       " None,\n",
       " None,\n",
       " None,\n",
       " None,\n",
       " None,\n",
       " None,\n",
       " None,\n",
       " None,\n",
       " None,\n",
       " None,\n",
       " None,\n",
       " None,\n",
       " None,\n",
       " None,\n",
       " None,\n",
       " None,\n",
       " None,\n",
       " None,\n",
       " None,\n",
       " None,\n",
       " None,\n",
       " None,\n",
       " None,\n",
       " None,\n",
       " None,\n",
       " None,\n",
       " None,\n",
       " None,\n",
       " None,\n",
       " None,\n",
       " None,\n",
       " None,\n",
       " None,\n",
       " None,\n",
       " None,\n",
       " None,\n",
       " None,\n",
       " None,\n",
       " None,\n",
       " None,\n",
       " None,\n",
       " None,\n",
       " None,\n",
       " None,\n",
       " None,\n",
       " None]"
      ]
     },
     "execution_count": 3,
     "metadata": {},
     "output_type": "execute_result"
    }
   ],
   "source": [
    "download('names')\n",
    "males = [name.lower().strip() for name in names.words('male.txt')]\n",
    "females = [name.lower().strip() for name in names.words('female.txt')]\n",
    "\n",
    "unisex = list(set(males) & set(females))\n",
    "[males.remove(name) for name in unisex]\n",
    "[females.remove(name) for name in unisex]\n",
    "\n"
   ]
  },
  {
   "cell_type": "code",
   "execution_count": 4,
   "metadata": {},
   "outputs": [],
   "source": [
    "males = [(name,'male') for name in males]\n",
    "females = [(name,'female') for name in females]\n",
    "\n",
    "all_names = males + females\n",
    "\n",
    "random.seed(13)\n",
    "random.shuffle(all_names)"
   ]
  },
  {
   "cell_type": "markdown",
   "metadata": {},
   "source": [
    "### Feature "
   ]
  },
  {
   "cell_type": "markdown",
   "metadata": {},
   "source": [
    "For the analysis, I handle the data in a Pandas data frame. For the learning model it is important to identify the characteristics of the data that allow to identify the gender differences in the names. \n",
    "\n",
    "Create dataframe:"
   ]
  },
  {
   "cell_type": "code",
   "execution_count": 5,
   "metadata": {},
   "outputs": [
    {
     "data": {
      "text/html": [
       "<div>\n",
       "<style scoped>\n",
       "    .dataframe tbody tr th:only-of-type {\n",
       "        vertical-align: middle;\n",
       "    }\n",
       "\n",
       "    .dataframe tbody tr th {\n",
       "        vertical-align: top;\n",
       "    }\n",
       "\n",
       "    .dataframe thead th {\n",
       "        text-align: right;\n",
       "    }\n",
       "</style>\n",
       "<table border=\"1\" class=\"dataframe\">\n",
       "  <thead>\n",
       "    <tr style=\"text-align: right;\">\n",
       "      <th></th>\n",
       "      <th>name</th>\n",
       "      <th>gender</th>\n",
       "    </tr>\n",
       "  </thead>\n",
       "  <tbody>\n",
       "    <tr>\n",
       "      <th>0</th>\n",
       "      <td>lester</td>\n",
       "      <td>male</td>\n",
       "    </tr>\n",
       "    <tr>\n",
       "      <th>1</th>\n",
       "      <td>ritch</td>\n",
       "      <td>male</td>\n",
       "    </tr>\n",
       "    <tr>\n",
       "      <th>2</th>\n",
       "      <td>joshua</td>\n",
       "      <td>male</td>\n",
       "    </tr>\n",
       "    <tr>\n",
       "      <th>3</th>\n",
       "      <td>skippie</td>\n",
       "      <td>male</td>\n",
       "    </tr>\n",
       "    <tr>\n",
       "      <th>4</th>\n",
       "      <td>peggy</td>\n",
       "      <td>female</td>\n",
       "    </tr>\n",
       "  </tbody>\n",
       "</table>\n",
       "</div>"
      ],
      "text/plain": [
       "      name  gender\n",
       "0   lester    male\n",
       "1    ritch    male\n",
       "2   joshua    male\n",
       "3  skippie    male\n",
       "4    peggy  female"
      ]
     },
     "execution_count": 5,
     "metadata": {},
     "output_type": "execute_result"
    }
   ],
   "source": [
    "data = pd.DataFrame.from_dict(dict(all_names), orient='index', columns=['gender']).reset_index()\n",
    "data.columns = ['name', 'gender']\n",
    "data.head()"
   ]
  },
  {
   "cell_type": "markdown",
   "metadata": {},
   "source": [
    "Create various feature columns for exploration"
   ]
  },
  {
   "cell_type": "code",
   "execution_count": 6,
   "metadata": {},
   "outputs": [
    {
     "name": "stderr",
     "output_type": "stream",
     "text": [
      "C:\\Users\\tqkar\\AppData\\Local\\Temp\\ipykernel_2328\\1395030286.py:8: FutureWarning: The default value of regex will change from True to False in a future version.\n",
      "  data['vowels'] = data['name'].str.replace(r'[^aeiou]', '')\n",
      "C:\\Users\\tqkar\\AppData\\Local\\Temp\\ipykernel_2328\\1395030286.py:9: FutureWarning: The default value of regex will change from True to False in a future version.\n",
      "  data['consonants'] = data['name'].str.replace(r'[aeiou]', '')\n",
      "C:\\ProgramData\\Anaconda3\\lib\\site-packages\\nltk\\tokenize\\sonority_sequencing.py:102: UserWarning: Character not defined in sonority_hierarchy, assigning as vowel: ' '\n",
      "  warnings.warn(\n"
     ]
    },
    {
     "data": {
      "text/html": [
       "<div>\n",
       "<style scoped>\n",
       "    .dataframe tbody tr th:only-of-type {\n",
       "        vertical-align: middle;\n",
       "    }\n",
       "\n",
       "    .dataframe tbody tr th {\n",
       "        vertical-align: top;\n",
       "    }\n",
       "\n",
       "    .dataframe thead th {\n",
       "        text-align: right;\n",
       "    }\n",
       "</style>\n",
       "<table border=\"1\" class=\"dataframe\">\n",
       "  <thead>\n",
       "    <tr style=\"text-align: right;\">\n",
       "      <th></th>\n",
       "      <th>name</th>\n",
       "      <th>gender</th>\n",
       "      <th>length</th>\n",
       "      <th>first_letter</th>\n",
       "      <th>last_letter</th>\n",
       "      <th>vowel_last_letter</th>\n",
       "      <th>vowel_first_letter</th>\n",
       "      <th>vowels</th>\n",
       "      <th>consonants</th>\n",
       "      <th>vowel_count</th>\n",
       "      <th>consonant_count</th>\n",
       "      <th>bigrams</th>\n",
       "      <th>trigrams</th>\n",
       "      <th>syllables</th>\n",
       "    </tr>\n",
       "  </thead>\n",
       "  <tbody>\n",
       "    <tr>\n",
       "      <th>0</th>\n",
       "      <td>lester</td>\n",
       "      <td>male</td>\n",
       "      <td>6</td>\n",
       "      <td>l</td>\n",
       "      <td>r</td>\n",
       "      <td>False</td>\n",
       "      <td>False</td>\n",
       "      <td>ee</td>\n",
       "      <td>lstr</td>\n",
       "      <td>2</td>\n",
       "      <td>4</td>\n",
       "      <td>[(l, e), (e, s), (s, t), (t, e), (e, r)]</td>\n",
       "      <td>[(l, e, s), (e, s, t), (s, t, e), (t, e, r)]</td>\n",
       "      <td>2</td>\n",
       "    </tr>\n",
       "    <tr>\n",
       "      <th>1</th>\n",
       "      <td>ritch</td>\n",
       "      <td>male</td>\n",
       "      <td>5</td>\n",
       "      <td>r</td>\n",
       "      <td>h</td>\n",
       "      <td>False</td>\n",
       "      <td>False</td>\n",
       "      <td>i</td>\n",
       "      <td>rtch</td>\n",
       "      <td>1</td>\n",
       "      <td>4</td>\n",
       "      <td>[(r, i), (i, t), (t, c), (c, h)]</td>\n",
       "      <td>[(r, i, t), (i, t, c), (t, c, h)]</td>\n",
       "      <td>1</td>\n",
       "    </tr>\n",
       "    <tr>\n",
       "      <th>2</th>\n",
       "      <td>joshua</td>\n",
       "      <td>male</td>\n",
       "      <td>6</td>\n",
       "      <td>j</td>\n",
       "      <td>a</td>\n",
       "      <td>True</td>\n",
       "      <td>False</td>\n",
       "      <td>oua</td>\n",
       "      <td>jsh</td>\n",
       "      <td>3</td>\n",
       "      <td>3</td>\n",
       "      <td>[(j, o), (o, s), (s, h), (h, u), (u, a)]</td>\n",
       "      <td>[(j, o, s), (o, s, h), (s, h, u), (h, u, a)]</td>\n",
       "      <td>2</td>\n",
       "    </tr>\n",
       "    <tr>\n",
       "      <th>3</th>\n",
       "      <td>skippie</td>\n",
       "      <td>male</td>\n",
       "      <td>7</td>\n",
       "      <td>s</td>\n",
       "      <td>e</td>\n",
       "      <td>True</td>\n",
       "      <td>False</td>\n",
       "      <td>iie</td>\n",
       "      <td>skpp</td>\n",
       "      <td>3</td>\n",
       "      <td>4</td>\n",
       "      <td>[(s, k), (k, i), (i, p), (p, p), (p, i), (i, e)]</td>\n",
       "      <td>[(s, k, i), (k, i, p), (i, p, p), (p, p, i), (...</td>\n",
       "      <td>2</td>\n",
       "    </tr>\n",
       "    <tr>\n",
       "      <th>4</th>\n",
       "      <td>peggy</td>\n",
       "      <td>female</td>\n",
       "      <td>5</td>\n",
       "      <td>p</td>\n",
       "      <td>y</td>\n",
       "      <td>False</td>\n",
       "      <td>False</td>\n",
       "      <td>e</td>\n",
       "      <td>pggy</td>\n",
       "      <td>1</td>\n",
       "      <td>4</td>\n",
       "      <td>[(p, e), (e, g), (g, g), (g, y)]</td>\n",
       "      <td>[(p, e, g), (e, g, g), (g, g, y)]</td>\n",
       "      <td>2</td>\n",
       "    </tr>\n",
       "  </tbody>\n",
       "</table>\n",
       "</div>"
      ],
      "text/plain": [
       "      name  gender  length first_letter last_letter  vowel_last_letter  \\\n",
       "0   lester    male       6            l           r              False   \n",
       "1    ritch    male       5            r           h              False   \n",
       "2   joshua    male       6            j           a               True   \n",
       "3  skippie    male       7            s           e               True   \n",
       "4    peggy  female       5            p           y              False   \n",
       "\n",
       "   vowel_first_letter vowels consonants  vowel_count  consonant_count  \\\n",
       "0               False     ee       lstr            2                4   \n",
       "1               False      i       rtch            1                4   \n",
       "2               False    oua        jsh            3                3   \n",
       "3               False    iie       skpp            3                4   \n",
       "4               False      e       pggy            1                4   \n",
       "\n",
       "                                            bigrams  \\\n",
       "0          [(l, e), (e, s), (s, t), (t, e), (e, r)]   \n",
       "1                  [(r, i), (i, t), (t, c), (c, h)]   \n",
       "2          [(j, o), (o, s), (s, h), (h, u), (u, a)]   \n",
       "3  [(s, k), (k, i), (i, p), (p, p), (p, i), (i, e)]   \n",
       "4                  [(p, e), (e, g), (g, g), (g, y)]   \n",
       "\n",
       "                                            trigrams  syllables  \n",
       "0       [(l, e, s), (e, s, t), (s, t, e), (t, e, r)]          2  \n",
       "1                  [(r, i, t), (i, t, c), (t, c, h)]          1  \n",
       "2       [(j, o, s), (o, s, h), (s, h, u), (h, u, a)]          2  \n",
       "3  [(s, k, i), (k, i, p), (i, p, p), (p, p, i), (...          2  \n",
       "4                  [(p, e, g), (e, g, g), (g, g, y)]          2  "
      ]
     },
     "execution_count": 6,
     "metadata": {},
     "output_type": "execute_result"
    }
   ],
   "source": [
    "SSP = SyllableTokenizer()\n",
    "\n",
    "data['length'] = data['name'].str.len()\n",
    "data['first_letter'] = data['name'].str[0]\n",
    "data['last_letter'] = data['name'].str[-1]\n",
    "data['vowel_last_letter'] = data['last_letter'].isin([*'aeiou'])\n",
    "data['vowel_first_letter'] = data['first_letter'].isin([*'aeiou'])\n",
    "data['vowels'] = data['name'].str.replace(r'[^aeiou]', '')\n",
    "data['consonants'] = data['name'].str.replace(r'[aeiou]', '')\n",
    "data['vowel_count'] = data['vowels'].str.len()\n",
    "data['consonant_count'] = data['consonants'].str.len()\n",
    "data['bigrams'] = data['name'].apply(lambda x: list(ngrams(x, 2)))\n",
    "data['trigrams'] = data['name'].apply(lambda x: list(ngrams(x, 3)))\n",
    "data['syllables'] = data['name'].apply(lambda x: len(SSP.tokenize(x)))\n",
    "\n",
    "data.head()"
   ]
  },
  {
   "cell_type": "markdown",
   "metadata": {},
   "source": [
    "Lets analyze our bigrams and trigrams columns to get the most common ngrams by gender:"
   ]
  },
  {
   "cell_type": "code",
   "execution_count": 7,
   "metadata": {},
   "outputs": [
    {
     "data": {
      "text/html": [
       "<div>\n",
       "<style scoped>\n",
       "    .dataframe tbody tr th:only-of-type {\n",
       "        vertical-align: middle;\n",
       "    }\n",
       "\n",
       "    .dataframe tbody tr th {\n",
       "        vertical-align: top;\n",
       "    }\n",
       "\n",
       "    .dataframe thead th {\n",
       "        text-align: right;\n",
       "    }\n",
       "</style>\n",
       "<table border=\"1\" class=\"dataframe\">\n",
       "  <thead>\n",
       "    <tr style=\"text-align: right;\">\n",
       "      <th></th>\n",
       "      <th>bigrams</th>\n",
       "      <th>trigrams</th>\n",
       "      <th>bigrams_counter</th>\n",
       "      <th>trigrams_counter</th>\n",
       "    </tr>\n",
       "    <tr>\n",
       "      <th>gender</th>\n",
       "      <th></th>\n",
       "      <th></th>\n",
       "      <th></th>\n",
       "      <th></th>\n",
       "    </tr>\n",
       "  </thead>\n",
       "  <tbody>\n",
       "    <tr>\n",
       "      <th>female</th>\n",
       "      <td>[(p, e), (e, g), (g, g), (g, y), (m, a), (a, y...</td>\n",
       "      <td>[(p, e, g), (e, g, g), (g, g, y), (m, a, y), (...</td>\n",
       "      <td>{('p', 'e'): 39, ('e', 'g'): 22, ('g', 'g'): 1...</td>\n",
       "      <td>{('p', 'e', 'g'): 5, ('e', 'g', 'g'): 8, ('g',...</td>\n",
       "    </tr>\n",
       "    <tr>\n",
       "      <th>male</th>\n",
       "      <td>[(l, e), (e, s), (s, t), (t, e), (e, r), (r, i...</td>\n",
       "      <td>[(l, e, s), (e, s, t), (s, t, e), (t, e, r), (...</td>\n",
       "      <td>{('l', 'e'): 168, ('e', 's'): 72, ('s', 't'): ...</td>\n",
       "      <td>{('l', 'e', 's'): 12, ('e', 's', 't'): 22, ('s...</td>\n",
       "    </tr>\n",
       "  </tbody>\n",
       "</table>\n",
       "</div>"
      ],
      "text/plain": [
       "                                                  bigrams  \\\n",
       "gender                                                      \n",
       "female  [(p, e), (e, g), (g, g), (g, y), (m, a), (a, y...   \n",
       "male    [(l, e), (e, s), (s, t), (t, e), (e, r), (r, i...   \n",
       "\n",
       "                                                 trigrams  \\\n",
       "gender                                                      \n",
       "female  [(p, e, g), (e, g, g), (g, g, y), (m, a, y), (...   \n",
       "male    [(l, e, s), (e, s, t), (s, t, e), (t, e, r), (...   \n",
       "\n",
       "                                          bigrams_counter  \\\n",
       "gender                                                      \n",
       "female  {('p', 'e'): 39, ('e', 'g'): 22, ('g', 'g'): 1...   \n",
       "male    {('l', 'e'): 168, ('e', 's'): 72, ('s', 't'): ...   \n",
       "\n",
       "                                         trigrams_counter  \n",
       "gender                                                     \n",
       "female  {('p', 'e', 'g'): 5, ('e', 'g', 'g'): 8, ('g',...  \n",
       "male    {('l', 'e', 's'): 12, ('e', 's', 't'): 22, ('s...  "
      ]
     },
     "execution_count": 7,
     "metadata": {},
     "output_type": "execute_result"
    }
   ],
   "source": [
    "ngrams_gender = data.groupby('gender')[['bigrams', 'trigrams']].sum()\n",
    "ngrams_gender['bigrams_counter'] = ngrams_gender['bigrams'].apply(lambda x: Counter(x))\n",
    "ngrams_gender['trigrams_counter'] = ngrams_gender['trigrams'].apply(lambda x: Counter(x))\n",
    "ngrams_gender"
   ]
  },
  {
   "cell_type": "markdown",
   "metadata": {},
   "source": [
    "Using the counter class and the bigrams and trigrams, we can eliminate the need for the most common bigram/trigram and instead just use the list of bigrams and trigrams as features. The most common bigram was only in 13% of the female names and 12% of the male names."
   ]
  },
  {
   "cell_type": "markdown",
   "metadata": {},
   "source": [
    "### Data exploration"
   ]
  },
  {
   "cell_type": "markdown",
   "metadata": {},
   "source": [
    "I can tell that features created and applied are correct as gender predictors.\n",
    "Use our created variables to generate some summary statistics:"
   ]
  },
  {
   "cell_type": "code",
   "execution_count": 8,
   "metadata": {},
   "outputs": [
    {
     "data": {
      "text/html": [
       "<div>\n",
       "<style scoped>\n",
       "    .dataframe tbody tr th:only-of-type {\n",
       "        vertical-align: middle;\n",
       "    }\n",
       "\n",
       "    .dataframe tbody tr th {\n",
       "        vertical-align: top;\n",
       "    }\n",
       "\n",
       "    .dataframe thead th {\n",
       "        text-align: right;\n",
       "    }\n",
       "</style>\n",
       "<table border=\"1\" class=\"dataframe\">\n",
       "  <thead>\n",
       "    <tr style=\"text-align: right;\">\n",
       "      <th></th>\n",
       "      <th>length</th>\n",
       "      <th>vowel_last_letter</th>\n",
       "      <th>vowel_first_letter</th>\n",
       "      <th>vowel_count</th>\n",
       "      <th>consonant_count</th>\n",
       "      <th>syllables</th>\n",
       "    </tr>\n",
       "    <tr>\n",
       "      <th>gender</th>\n",
       "      <th></th>\n",
       "      <th></th>\n",
       "      <th></th>\n",
       "      <th></th>\n",
       "      <th></th>\n",
       "      <th></th>\n",
       "    </tr>\n",
       "  </thead>\n",
       "  <tbody>\n",
       "    <tr>\n",
       "      <th>female</th>\n",
       "      <td>6.186920</td>\n",
       "      <td>0.737319</td>\n",
       "      <td>0.176344</td>\n",
       "      <td>2.701705</td>\n",
       "      <td>3.485215</td>\n",
       "      <td>2.498165</td>\n",
       "    </tr>\n",
       "    <tr>\n",
       "      <th>male</th>\n",
       "      <td>5.995733</td>\n",
       "      <td>0.224593</td>\n",
       "      <td>0.159426</td>\n",
       "      <td>2.221102</td>\n",
       "      <td>3.774631</td>\n",
       "      <td>2.061676</td>\n",
       "    </tr>\n",
       "  </tbody>\n",
       "</table>\n",
       "</div>"
      ],
      "text/plain": [
       "          length  vowel_last_letter  vowel_first_letter  vowel_count  \\\n",
       "gender                                                                 \n",
       "female  6.186920           0.737319            0.176344     2.701705   \n",
       "male    5.995733           0.224593            0.159426     2.221102   \n",
       "\n",
       "        consonant_count  syllables  \n",
       "gender                              \n",
       "female         3.485215   2.498165  \n",
       "male           3.774631   2.061676  "
      ]
     },
     "execution_count": 8,
     "metadata": {},
     "output_type": "execute_result"
    }
   ],
   "source": [
    "data.groupby('gender').mean()"
   ]
  },
  {
   "cell_type": "markdown",
   "metadata": {},
   "source": [
    "Separate features from label"
   ]
  },
  {
   "cell_type": "code",
   "execution_count": 9,
   "metadata": {},
   "outputs": [],
   "source": [
    "X = data.drop(columns=['name', 'gender'])\n",
    "y = data['gender']"
   ]
  },
  {
   "cell_type": "markdown",
   "metadata": {},
   "source": [
    "According to the data, women have a longer name length on average, a greater number of vowels, and the last letter is a vowel 73% of the time. They can be good features to be used as predictors."
   ]
  },
  {
   "cell_type": "code",
   "execution_count": 10,
   "metadata": {},
   "outputs": [
    {
     "data": {
      "text/plain": [
       "<AxesSubplot:xlabel='first_letter', ylabel='count'>"
      ]
     },
     "execution_count": 10,
     "metadata": {},
     "output_type": "execute_result"
    },
    {
     "data": {
      "text/plain": [
       "<AxesSubplot:xlabel='last_letter', ylabel='count'>"
      ]
     },
     "execution_count": 10,
     "metadata": {},
     "output_type": "execute_result"
    },
    {
     "data": {
      "image/png": "[encoded data removed]",
      "text/plain": [
       "<Figure size 1440x720 with 2 Axes>"
      ]
     },
     "metadata": {
      "needs_background": "light"
     },
     "output_type": "display_data"
    }
   ],
   "source": [
    "categorical_cols = X.loc[:, [col for col in X.columns if 'gram' not in col]].select_dtypes(include='object').columns\n",
    "numerical_cols = X.select_dtypes(include=np.number).columns\n",
    "\n",
    "fig, ax = plt.subplots(1, 2, figsize=(20, 10))\n",
    "\n",
    "for var, subplot in zip(categorical_cols[:2], ax.flatten()):\n",
    "    sns.countplot(x=var, data=data, ax=subplot,order = list(string.ascii_lowercase))\n",
    "    for label in subplot.get_xticklabels():\n",
    "        label.set_rotation(90)"
   ]
  },
  {
   "cell_type": "markdown",
   "metadata": {},
   "source": [
    "For a better visualization, I will  plot a graph by gender:"
   ]
  },
  {
   "cell_type": "code",
   "execution_count": 11,
   "metadata": {},
   "outputs": [
    {
     "data": {
      "text/plain": [
       "<seaborn.axisgrid.FacetGrid at 0x25f247891f0>"
      ]
     },
     "execution_count": 11,
     "metadata": {},
     "output_type": "execute_result"
    },
    {
     "data": {
      "image/png": "[encoded data removed]",
      "text/plain": [
       "<Figure size 720x720 with 4 Axes>"
      ]
     },
     "metadata": {
      "needs_background": "light"
     },
     "output_type": "display_data"
    }
   ],
   "source": [
    "data_melted = pd.melt(data[['gender','first_letter','last_letter']],id_vars=['gender'])\n",
    "\n",
    "sns.catplot(x = 'value',col='gender',row='variable',kind='count',data=data_melted,\n",
    "            order = list(string.ascii_lowercase),\n",
    "            sharey = False)\n",
    "plt.show()"
   ]
  },
  {
   "cell_type": "markdown",
   "metadata": {},
   "source": [
    "According to the graphs, we can use as good predictors: the first and the last letter."
   ]
  },
  {
   "cell_type": "markdown",
   "metadata": {},
   "source": [
    "Numerical columns to gender exploration:"
   ]
  },
  {
   "cell_type": "code",
   "execution_count": 12,
   "metadata": {},
   "outputs": [
    {
     "data": {
      "text/plain": [
       "<AxesSubplot:xlabel='gender', ylabel='length'>"
      ]
     },
     "execution_count": 12,
     "metadata": {},
     "output_type": "execute_result"
    },
    {
     "data": {
      "text/plain": [
       "<AxesSubplot:xlabel='gender', ylabel='vowel_count'>"
      ]
     },
     "execution_count": 12,
     "metadata": {},
     "output_type": "execute_result"
    },
    {
     "data": {
      "text/plain": [
       "<AxesSubplot:xlabel='gender', ylabel='consonant_count'>"
      ]
     },
     "execution_count": 12,
     "metadata": {},
     "output_type": "execute_result"
    },
    {
     "data": {
      "text/plain": [
       "<AxesSubplot:xlabel='gender', ylabel='syllables'>"
      ]
     },
     "execution_count": 12,
     "metadata": {},
     "output_type": "execute_result"
    },
    {
     "data": {
      "image/png": "[encoded data removed]",
      "text/plain": [
       "<Figure size 1080x720 with 4 Axes>"
      ]
     },
     "metadata": {
      "needs_background": "light"
     },
     "output_type": "display_data"
    }
   ],
   "source": [
    "fig, ax = plt.subplots(1, 4, figsize=(15, 10))\n",
    "\n",
    "for var, subplot in zip(numerical_cols, ax.flatten()):\n",
    "    sns.boxplot(x='gender', y=var, data=data, ax=subplot, palette=\"Blues\")"
   ]
  },
  {
   "cell_type": "markdown",
   "metadata": {},
   "source": [
    "Looking at the boxplots above, I can rule out as gender predictors: length, number of vowels, and number of consonants. In the case of syllables, it seems to be a good predictor of gender."
   ]
  },
  {
   "cell_type": "markdown",
   "metadata": {},
   "source": [
    "To verify what is seen in the boxplot, I am going to make a conditional count plot for each variable."
   ]
  },
  {
   "cell_type": "code",
   "execution_count": 30,
   "metadata": {},
   "outputs": [
    {
     "name": "stderr",
     "output_type": "stream",
     "text": [
      "C:\\ProgramData\\Anaconda3\\lib\\site-packages\\seaborn\\categorical.py:3806: UserWarning: Setting `sharex=False` with `color=None` may cause different levels of the `x` variable to share colors. This will change in a future version.\n",
      "  warnings.warn(msg.format(\"sharex\", \"x\"), UserWarning)\n"
     ]
    },
    {
     "data": {
      "text/plain": [
       "<seaborn.axisgrid.FacetGrid at 0x25f2d2bfeb0>"
      ]
     },
     "execution_count": 30,
     "metadata": {},
     "output_type": "execute_result"
    },
    {
     "data": {
      "image/png": "[encoded data removed]",
      "text/plain": [
       "<Figure size 720x1440 with 8 Axes>"
      ]
     },
     "metadata": {
      "needs_background": "light"
     },
     "output_type": "display_data"
    }
   ],
   "source": [
    "data_melted = pd.melt(data[['gender','length','vowel_count','consonant_count','syllables']],id_vars=['gender'])\n",
    "\n",
    "sns.catplot(x = 'value',col='gender',row='variable',kind='count',data=data_melted,\n",
    "            sharey = False,sharex=False)\n",
    "plt.show()"
   ]
  },
  {
   "cell_type": "markdown",
   "metadata": {},
   "source": [
    "Looking at the previous graphs I confirm that we can exclude the length, the number of vowels and the number of consonants as predictors."
   ]
  },
  {
   "cell_type": "markdown",
   "metadata": {},
   "source": [
    "### Feature generation function"
   ]
  },
  {
   "cell_type": "markdown",
   "metadata": {},
   "source": [
    "I'll create the features that we identified as predictors to apply to the name lists. As we refine the model, we will also refine this function to include only the features that seem most relevant to our classifier."
   ]
  },
  {
   "cell_type": "code",
   "execution_count": 79,
   "metadata": {},
   "outputs": [],
   "source": [
    "def gender_features(name):\n",
    "    \n",
    "    first_letter = name[0]\n",
    "    vowel_first_letter = first_letter in 'aeiou'\n",
    "    last_letter = name[-1]\n",
    "    vowel_last_letter = last_letter in 'aeiou'\n",
    "        \n",
    "    vowels = \"\".join(sorted(list(set(re.sub(r'[^aeiou]', '', name)))))\n",
    "    consonants = \"\".join(sorted(list(set(re.sub(r'[aeiou]', '', name)))))\n",
    "        \n",
    "    bigrams = (ngrams(name, 2))\n",
    "    trigrams = (ngrams(name, 3))\n",
    "    \n",
    "    syllables = len(SSP.tokenize(name))\n",
    "    \n",
    "    return {\n",
    "        'first_letter': first_letter,\n",
    "        'vowel_first_letter': vowel_first_letter,\n",
    "        'last_letter': last_letter,\n",
    "        'vowel_last_letter': vowel_last_letter,\n",
    "        'vowels': vowels,\n",
    "        'consonants': consonants,\n",
    "        'bigrams': bigrams,\n",
    "        'trigrams': trigrams,\n",
    "        'syllables': syllables\n",
    "    }"
   ]
  },
  {
   "cell_type": "markdown",
   "metadata": {},
   "source": [
    "### Apply feature generation function"
   ]
  },
  {
   "cell_type": "markdown",
   "metadata": {},
   "source": [
    "I'll take the first 500 names for training and development testing. We separate training and development test data. Apply feature generation function."
   ]
  },
  {
   "cell_type": "code",
   "execution_count": 80,
   "metadata": {},
   "outputs": [
    {
     "name": "stderr",
     "output_type": "stream",
     "text": [
      "C:\\ProgramData\\Anaconda3\\lib\\site-packages\\nltk\\tokenize\\sonority_sequencing.py:102: UserWarning: Character not defined in sonority_hierarchy, assigning as vowel: ' '\n",
      "  warnings.warn(\n"
     ]
    }
   ],
   "source": [
    "final_test = all_names[:500]\n",
    "num_remaining = len(all_names) - 500\n",
    "training_and_dev_test = all_names[-num_remaining:]\n",
    "\n",
    "dev_test1 = training_and_dev_test[:500]\n",
    "training1 = training_and_dev_test[500:]\n",
    "\n",
    "random.shuffle(training_and_dev_test)\n",
    "dev_test2 = training_and_dev_test[:500]\n",
    "training2 = training_and_dev_test[500:]\n",
    "\n",
    "random.shuffle(training_and_dev_test)\n",
    "dev_test3 = training_and_dev_test[:500]\n",
    "training3 = training_and_dev_test[500:]\n",
    "\n",
    "random.shuffle(training_and_dev_test)\n",
    "dev_test4 = training_and_dev_test[:500]\n",
    "training4 = training_and_dev_test[500:]\n",
    "\n",
    "random.shuffle(training_and_dev_test)\n",
    "dev_test5 = training_and_dev_test[:500]\n",
    "training5 = training_and_dev_test[500:]\n",
    "\n",
    "dev_test_features1 = [(gender_features(name), gender) for name, gender in dev_test1]\n",
    "training_features1 = [(gender_features(name), gender) for name, gender in training1]\n",
    "\n",
    "dev_test_features2 = [(gender_features(name), gender) for name, gender in dev_test2]\n",
    "training_features2 = [(gender_features(name), gender) for name, gender in training2]\n",
    "\n",
    "dev_test_features3 = [(gender_features(name), gender) for name, gender in dev_test3]\n",
    "training_features3 = [(gender_features(name), gender) for name, gender in training3]\n",
    "\n",
    "dev_test_features4 = [(gender_features(name), gender) for name, gender in dev_test4]\n",
    "training_features4 = [(gender_features(name), gender) for name, gender in training4]\n",
    "\n",
    "dev_test_features5 = [(gender_features(name), gender) for name, gender in dev_test5]\n",
    "training_features5 = [(gender_features(name), gender) for name, gender in training5]"
   ]
  },
  {
   "cell_type": "markdown",
   "metadata": {},
   "source": [
    "### Apply model - Initial model"
   ]
  },
  {
   "cell_type": "markdown",
   "metadata": {},
   "source": [
    "I will apply the model. I will use the maximum entropy model."
   ]
  },
  {
   "cell_type": "code",
   "execution_count": 81,
   "metadata": {},
   "outputs": [
    {
     "name": "stdout",
     "output_type": "stream",
     "text": [
      "  ==> Training (100 iterations)\n",
      "  ==> Training (100 iterations)\n",
      "  ==> Training (100 iterations)\n",
      "  ==> Training (100 iterations)\n",
      "  ==> Training (100 iterations)\n"
     ]
    }
   ],
   "source": [
    "classifier1v1 = nltk.MaxentClassifier.train(training_features1,trace=1)\n",
    "classifier2v1 = nltk.MaxentClassifier.train(training_features2,trace=1)\n",
    "classifier3v1 = nltk.MaxentClassifier.train(training_features3,trace=1)\n",
    "classifier4v1 = nltk.MaxentClassifier.train(training_features4,trace=1)\n",
    "classifier5v1 = nltk.MaxentClassifier.train(training_features5,trace=1)"
   ]
  },
  {
   "cell_type": "markdown",
   "metadata": {},
   "source": [
    "Now, we will check the accuracy of our model on the development test data."
   ]
  },
  {
   "cell_type": "code",
   "execution_count": 82,
   "metadata": {},
   "outputs": [
    {
     "data": {
      "text/plain": [
       "0.846"
      ]
     },
     "execution_count": 82,
     "metadata": {},
     "output_type": "execute_result"
    },
    {
     "data": {
      "text/plain": [
       "0.838"
      ]
     },
     "execution_count": 82,
     "metadata": {},
     "output_type": "execute_result"
    },
    {
     "data": {
      "text/plain": [
       "0.816"
      ]
     },
     "execution_count": 82,
     "metadata": {},
     "output_type": "execute_result"
    },
    {
     "data": {
      "text/plain": [
       "0.834"
      ]
     },
     "execution_count": 82,
     "metadata": {},
     "output_type": "execute_result"
    },
    {
     "data": {
      "text/plain": [
       "0.85"
      ]
     },
     "execution_count": 82,
     "metadata": {},
     "output_type": "execute_result"
    }
   ],
   "source": [
    "nltk.classify.accuracy(classifier1v1, dev_test_features1)\n",
    "nltk.classify.accuracy(classifier2v1, dev_test_features2)\n",
    "nltk.classify.accuracy(classifier3v1, dev_test_features3)\n",
    "nltk.classify.accuracy(classifier4v1, dev_test_features4)\n",
    "nltk.classify.accuracy(classifier5v1, dev_test_features5)"
   ]
  },
  {
   "cell_type": "markdown",
   "metadata": {},
   "source": [
    "The precision of the model is between 81% and 85%.\n",
    "\n",
    "I will try to improve the precision, refining the model:"
   ]
  },
  {
   "cell_type": "markdown",
   "metadata": {},
   "source": [
    "### Refining the model"
   ]
  },
  {
   "cell_type": "markdown",
   "metadata": {},
   "source": [
    "To improve the accuracy of the model I can add or remove features to better predict the gender."
   ]
  },
  {
   "cell_type": "code",
   "execution_count": 83,
   "metadata": {},
   "outputs": [],
   "source": [
    "errors = []\n",
    "\n",
    "for (name,tag) in dev_test1:\n",
    "    guess = classifier1v1.classify(gender_features(name))\n",
    "    if guess != tag:\n",
    "        errors.append((tag,guess,name))"
   ]
  },
  {
   "cell_type": "code",
   "execution_count": 84,
   "metadata": {},
   "outputs": [
    {
     "name": "stdout",
     "output_type": "stream",
     "text": [
      "correct=female   guess=male     name=aggy                          \n",
      "correct=female   guess=male     name=aurel                         \n",
      "correct=female   guess=male     name=beatriz                       \n",
      "correct=female   guess=male     name=becky                         \n",
      "correct=female   guess=male     name=bell                          \n",
      "correct=female   guess=male     name=betteann                      \n",
      "correct=female   guess=male     name=bren                          \n",
      "correct=female   guess=male     name=brittan                       \n",
      "correct=female   guess=male     name=candis                        \n",
      "correct=female   guess=male     name=damaris                       \n",
      "correct=female   guess=male     name=darell                        \n",
      "correct=female   guess=male     name=daryn                         \n",
      "correct=female   guess=male     name=dove                          \n",
      "correct=female   guess=male     name=eryn                          \n",
      "correct=female   guess=male     name=ester                         \n",
      "correct=female   guess=male     name=greer                         \n",
      "correct=female   guess=male     name=happy                         \n",
      "correct=female   guess=male     name=hildegaard                    \n",
      "correct=female   guess=male     name=honey                         \n",
      "correct=female   guess=male     name=joannes                       \n",
      "correct=female   guess=male     name=johannah                      \n",
      "correct=female   guess=male     name=joyann                        \n",
      "correct=female   guess=male     name=myrah                         \n",
      "correct=female   guess=male     name=nitin                         \n",
      "correct=female   guess=male     name=orel                          \n",
      "correct=female   guess=male     name=rachael                       \n",
      "correct=female   guess=male     name=rosabel                       \n",
      "correct=female   guess=male     name=rozamond                      \n",
      "correct=female   guess=male     name=shamit                        \n",
      "correct=female   guess=male     name=sukey                         \n",
      "correct=female   guess=male     name=winnifred                     \n",
      "correct=female   guess=male     name=yetty                         \n",
      "correct=male     guess=female   name=alic                          \n",
      "correct=male     guess=female   name=amery                         \n",
      "correct=male     guess=female   name=andre                         \n",
      "correct=male     guess=female   name=archy                         \n",
      "correct=male     guess=female   name=barnie                        \n",
      "correct=male     guess=female   name=bentley                       \n",
      "correct=male     guess=female   name=chevy                         \n",
      "correct=male     guess=female   name=darrin                        \n",
      "correct=male     guess=female   name=dean                          \n",
      "correct=male     guess=female   name=demetre                       \n",
      "correct=male     guess=female   name=felipe                        \n",
      "correct=male     guess=female   name=gerome                        \n",
      "correct=male     guess=female   name=giuseppe                      \n",
      "correct=male     guess=female   name=glynn                         \n",
      "correct=male     guess=female   name=grady                         \n",
      "correct=male     guess=female   name=granville                     \n",
      "correct=male     guess=female   name=hersch                        \n",
      "correct=male     guess=female   name=hymie                         \n",
      "correct=male     guess=female   name=isidore                       \n",
      "correct=male     guess=female   name=jean-pierre                   \n",
      "correct=male     guess=female   name=jeffery                       \n",
      "correct=male     guess=female   name=jessee                        \n",
      "correct=male     guess=female   name=jessey                        \n",
      "correct=male     guess=female   name=kelwin                        \n",
      "correct=male     guess=female   name=manny                         \n",
      "correct=male     guess=female   name=maurits                       \n",
      "correct=male     guess=female   name=micheal                       \n",
      "correct=male     guess=female   name=moise                         \n",
      "correct=male     guess=female   name=neville                       \n",
      "correct=male     guess=female   name=nevin                         \n",
      "correct=male     guess=female   name=noe                           \n",
      "correct=male     guess=female   name=olle                          \n",
      "correct=male     guess=female   name=parsifal                      \n",
      "correct=male     guess=female   name=partha                        \n",
      "correct=male     guess=female   name=rolfe                         \n",
      "correct=male     guess=female   name=shannan                       \n",
      "correct=male     guess=female   name=sloane                        \n",
      "correct=male     guess=female   name=sly                           \n",
      "correct=male     guess=female   name=spence                        \n",
      "correct=male     guess=female   name=tarrance                      \n",
      "correct=male     guess=female   name=torre                         \n",
      "correct=male     guess=female   name=valentin                      \n",
      "correct=male     guess=female   name=vance                         \n",
      "correct=male     guess=female   name=verney                        \n",
      "correct=male     guess=female   name=zebadiah                      \n"
     ]
    }
   ],
   "source": [
    "for (tag,guess,name) in sorted(errors):\n",
    "    print('correct={:<8} guess={:<8s} name={:30}'.format(tag,guess,name))"
   ]
  },
  {
   "cell_type": "markdown",
   "metadata": {},
   "source": [
    "In this list we can see which names were incorrectly identified in their gender."
   ]
  },
  {
   "cell_type": "code",
   "execution_count": 85,
   "metadata": {},
   "outputs": [],
   "source": [
    "actually_female_guessed_incorrectly = []\n",
    "actually_male_guessed_incorrectly = []\n",
    "\n",
    "for (tag,guess,name) in sorted(errors):\n",
    "    if tag == \"female\":\n",
    "        actually_female_guessed_incorrectly.append(name)\n",
    "    if tag == \"male\":\n",
    "        actually_male_guessed_incorrectly.append(name)"
   ]
  },
  {
   "cell_type": "code",
   "execution_count": 86,
   "metadata": {},
   "outputs": [
    {
     "name": "stdout",
     "output_type": "stream",
     "text": [
      "First letter count errors, actually female then actually male:\n"
     ]
    },
    {
     "data": {
      "text/plain": [
       "Counter({'a': 2,\n",
       "         'b': 6,\n",
       "         'c': 1,\n",
       "         'd': 4,\n",
       "         'e': 2,\n",
       "         'g': 1,\n",
       "         'h': 3,\n",
       "         'j': 3,\n",
       "         'm': 1,\n",
       "         'n': 1,\n",
       "         'o': 1,\n",
       "         'r': 3,\n",
       "         's': 2,\n",
       "         'w': 1,\n",
       "         'y': 1})"
      ]
     },
     "execution_count": 86,
     "metadata": {},
     "output_type": "execute_result"
    },
    {
     "data": {
      "text/plain": [
       "Counter({'a': 4,\n",
       "         'b': 2,\n",
       "         'c': 1,\n",
       "         'd': 3,\n",
       "         'f': 1,\n",
       "         'g': 5,\n",
       "         'h': 2,\n",
       "         'i': 1,\n",
       "         'j': 4,\n",
       "         'k': 1,\n",
       "         'm': 4,\n",
       "         'n': 3,\n",
       "         'o': 1,\n",
       "         'p': 2,\n",
       "         'r': 1,\n",
       "         's': 4,\n",
       "         't': 2,\n",
       "         'v': 3,\n",
       "         'z': 1})"
      ]
     },
     "execution_count": 86,
     "metadata": {},
     "output_type": "execute_result"
    },
    {
     "name": "stdout",
     "output_type": "stream",
     "text": [
      "First letter vowel count errors:\n"
     ]
    },
    {
     "data": {
      "text/plain": [
       "Counter({True: 5, False: 27})"
      ]
     },
     "execution_count": 86,
     "metadata": {},
     "output_type": "execute_result"
    },
    {
     "data": {
      "text/plain": [
       "Counter({True: 6, False: 39})"
      ]
     },
     "execution_count": 86,
     "metadata": {},
     "output_type": "execute_result"
    },
    {
     "name": "stdout",
     "output_type": "stream",
     "text": [
      "Last letter count errors:\n"
     ]
    },
    {
     "data": {
      "text/plain": [
       "Counter({'y': 6,\n",
       "         'l': 6,\n",
       "         'z': 1,\n",
       "         'n': 7,\n",
       "         's': 3,\n",
       "         'e': 1,\n",
       "         'r': 2,\n",
       "         'd': 3,\n",
       "         'h': 2,\n",
       "         't': 1})"
      ]
     },
     "execution_count": 86,
     "metadata": {},
     "output_type": "execute_result"
    },
    {
     "data": {
      "text/plain": [
       "Counter({'c': 1, 'y': 10, 'e': 21, 'n': 7, 'h': 2, 's': 1, 'l': 2, 'a': 1})"
      ]
     },
     "execution_count": 86,
     "metadata": {},
     "output_type": "execute_result"
    },
    {
     "name": "stdout",
     "output_type": "stream",
     "text": [
      "Last letter vowel count errors:\n"
     ]
    },
    {
     "data": {
      "text/plain": [
       "Counter({False: 31, True: 1})"
      ]
     },
     "execution_count": 86,
     "metadata": {},
     "output_type": "execute_result"
    },
    {
     "data": {
      "text/plain": [
       "Counter({False: 23, True: 22})"
      ]
     },
     "execution_count": 86,
     "metadata": {},
     "output_type": "execute_result"
    },
    {
     "name": "stdout",
     "output_type": "stream",
     "text": [
      "List of vowels count errors:\n"
     ]
    },
    {
     "data": {
      "text/plain": [
       "Counter({'a': 4,\n",
       "         'aeu': 1,\n",
       "         'aei': 2,\n",
       "         'e': 7,\n",
       "         'ae': 3,\n",
       "         'ai': 4,\n",
       "         'eo': 3,\n",
       "         'aeo': 2,\n",
       "         'ao': 3,\n",
       "         'i': 1,\n",
       "         'eu': 1,\n",
       "         'ei': 1})"
      ]
     },
     "execution_count": 86,
     "metadata": {},
     "output_type": "execute_result"
    },
    {
     "data": {
      "text/plain": [
       "Counter({'ai': 3,\n",
       "         'ae': 5,\n",
       "         'a': 5,\n",
       "         'aei': 6,\n",
       "         'e': 9,\n",
       "         'ei': 5,\n",
       "         'eo': 5,\n",
       "         'eiu': 1,\n",
       "         '': 2,\n",
       "         'eio': 2,\n",
       "         'aiu': 1,\n",
       "         'aeo': 1})"
      ]
     },
     "execution_count": 86,
     "metadata": {},
     "output_type": "execute_result"
    }
   ],
   "source": [
    "print(\"First letter count errors, actually female then actually male:\")\n",
    "Counter([name[0] for name in actually_female_guessed_incorrectly])\n",
    "Counter([name[0] for name in actually_male_guessed_incorrectly])\n",
    "print(\"First letter vowel count errors:\")\n",
    "Counter([name[0] in 'aeiou' for name in actually_female_guessed_incorrectly])\n",
    "Counter([name[0] in 'aeiou' for name in actually_male_guessed_incorrectly])\n",
    "print(\"Last letter count errors:\")\n",
    "Counter([name[-1] for name in actually_female_guessed_incorrectly])\n",
    "Counter([name[-1] for name in actually_male_guessed_incorrectly])\n",
    "print(\"Last letter vowel count errors:\")\n",
    "Counter([name[-1] in 'aeiou' for name in actually_female_guessed_incorrectly])\n",
    "Counter([name[-1] in 'aeiou' for name in actually_male_guessed_incorrectly])\n",
    "print(\"List of vowels count errors:\")\n",
    "Counter([\"\".join(sorted(list(set(re.sub(r'[^aeiou]', '', name))))) for name in actually_female_guessed_incorrectly])\n",
    "Counter([\"\".join(sorted(list(set(re.sub(r'[^aeiou]', '', name))))) for name in actually_male_guessed_incorrectly])"
   ]
  },
  {
   "cell_type": "markdown",
   "metadata": {},
   "source": [
    "I can see that in general nouns that were misidentified and are male end in 'e'. I am going to verify the incidence of an 'a' and/or an 'e' in the name in men vs. women in training data."
   ]
  },
  {
   "cell_type": "code",
   "execution_count": 87,
   "metadata": {},
   "outputs": [
    {
     "data": {
      "text/plain": [
       "Counter({True: 2758, False: 1230})"
      ]
     },
     "execution_count": 87,
     "metadata": {},
     "output_type": "execute_result"
    },
    {
     "data": {
      "text/plain": [
       "Counter({False: 1100, True: 1126})"
      ]
     },
     "execution_count": 87,
     "metadata": {},
     "output_type": "execute_result"
    },
    {
     "data": {
      "text/plain": [
       "Counter({True: 2433, False: 1555})"
      ]
     },
     "execution_count": 87,
     "metadata": {},
     "output_type": "execute_result"
    },
    {
     "data": {
      "text/plain": [
       "Counter({True: 1195, False: 1031})"
      ]
     },
     "execution_count": 87,
     "metadata": {},
     "output_type": "execute_result"
    }
   ],
   "source": [
    "def vowels(name):\n",
    "    return \"\".join(sorted(list(set(re.sub(r'[^aeiou]', '', name)))))\n",
    "\n",
    "Counter([list(name).count('a') >= 1 for name,tag in training1 if tag == \"female\"])\n",
    "Counter([list(name).count('a') >= 1 for name,tag in training1 if tag == \"male\"])\n",
    "\n",
    "Counter([list(name).count('e') >= 1 for name,tag in training1 if tag == \"female\"])\n",
    "Counter([list(name).count('e') >= 1 for name,tag in training1 if tag == \"male\"])"
   ]
  },
  {
   "cell_type": "markdown",
   "metadata": {},
   "source": [
    "Based on the data, I can see that female names are more likely to contain an 'a' or 'e' than male names.\n",
    "Let's try adding a \"suffix2\" feature (last two letters) and see if that improves accuracy."
   ]
  },
  {
   "cell_type": "code",
   "execution_count": 88,
   "metadata": {},
   "outputs": [],
   "source": [
    "def gender_features(name):\n",
    "    \n",
    "    first_letter = name[0]\n",
    "    vowel_first_letter = first_letter in 'aeiou'\n",
    "    last_letter = name[-1]\n",
    "    last_two_letters = name[-2:]\n",
    "    vowel_last_letter = last_letter in 'aeiou'\n",
    "    \n",
    "    vowels = \"\".join(sorted(list(set(re.sub(r'[^aeiou]', '', name)))))\n",
    "    consonants = \"\".join(sorted(list(set(re.sub(r'[aeiou]', '', name)))))\n",
    "    \n",
    "    bigrams = (ngrams(name, 2))\n",
    "    trigrams = (ngrams(name, 3))\n",
    "    \n",
    "    syllables = len(SSP.tokenize(name))\n",
    "    \n",
    "    return {\n",
    "        'first_letter': first_letter,\n",
    "        'vowel_first_letter': vowel_first_letter,\n",
    "        'last_letter': last_letter,\n",
    "        'last_two_letters': last_two_letters,\n",
    "        'vowel_last_letter': vowel_last_letter,\n",
    "        'vowels': vowels,\n",
    "        'consonants': consonants,\n",
    "        'bigrams': bigrams,\n",
    "        'trigrams': trigrams,\n",
    "        'syllables': syllables\n",
    "    }"
   ]
  },
  {
   "cell_type": "code",
   "execution_count": 89,
   "metadata": {},
   "outputs": [],
   "source": [
    "dev_test_features1 = [(gender_features(name), gender) for name, gender in dev_test1]\n",
    "training_features1 = [(gender_features(name), gender) for name, gender in training1]\n",
    "\n",
    "dev_test_features2 = [(gender_features(name), gender) for name, gender in dev_test2]\n",
    "training_features2 = [(gender_features(name), gender) for name, gender in training2]\n",
    "\n",
    "dev_test_features3 = [(gender_features(name), gender) for name, gender in dev_test3]\n",
    "training_features3 = [(gender_features(name), gender) for name, gender in training3]\n",
    "\n",
    "dev_test_features4 = [(gender_features(name), gender) for name, gender in dev_test4]\n",
    "training_features4 = [(gender_features(name), gender) for name, gender in training4]\n",
    "\n",
    "dev_test_features5 = [(gender_features(name), gender) for name, gender in dev_test5]\n",
    "training_features5 = [(gender_features(name), gender) for name, gender in training5]"
   ]
  },
  {
   "cell_type": "code",
   "execution_count": 90,
   "metadata": {},
   "outputs": [
    {
     "name": "stdout",
     "output_type": "stream",
     "text": [
      "  ==> Training (100 iterations)\n",
      "  ==> Training (100 iterations)\n",
      "  ==> Training (100 iterations)\n",
      "  ==> Training (100 iterations)\n",
      "  ==> Training (100 iterations)\n"
     ]
    }
   ],
   "source": [
    "classifier1v2 = nltk.MaxentClassifier.train(training_features1,trace=1)\n",
    "classifier2v2 = nltk.MaxentClassifier.train(training_features2,trace=1)\n",
    "classifier3v2 = nltk.MaxentClassifier.train(training_features3,trace=1)\n",
    "classifier4v2 = nltk.MaxentClassifier.train(training_features4,trace=1)\n",
    "classifier5v2 = nltk.MaxentClassifier.train(training_features5,trace=1)"
   ]
  },
  {
   "cell_type": "code",
   "execution_count": 91,
   "metadata": {},
   "outputs": [
    {
     "data": {
      "text/plain": [
       "0.848"
      ]
     },
     "execution_count": 91,
     "metadata": {},
     "output_type": "execute_result"
    },
    {
     "data": {
      "text/plain": [
       "0.84"
      ]
     },
     "execution_count": 91,
     "metadata": {},
     "output_type": "execute_result"
    },
    {
     "data": {
      "text/plain": [
       "0.842"
      ]
     },
     "execution_count": 91,
     "metadata": {},
     "output_type": "execute_result"
    },
    {
     "data": {
      "text/plain": [
       "0.834"
      ]
     },
     "execution_count": 91,
     "metadata": {},
     "output_type": "execute_result"
    },
    {
     "data": {
      "text/plain": [
       "0.856"
      ]
     },
     "execution_count": 91,
     "metadata": {},
     "output_type": "execute_result"
    }
   ],
   "source": [
    "nltk.classify.accuracy(classifier1v2, dev_test_features1)\n",
    "nltk.classify.accuracy(classifier2v2, dev_test_features2)\n",
    "nltk.classify.accuracy(classifier3v2, dev_test_features3)\n",
    "nltk.classify.accuracy(classifier4v2, dev_test_features4)\n",
    "nltk.classify.accuracy(classifier5v2, dev_test_features5)"
   ]
  },
  {
   "cell_type": "markdown",
   "metadata": {},
   "source": [
    "The accuracy is 83% and 85%. I only get better in some cases.\n",
    "\n",
    "I'll try to include the second-to-last letter as a separate variable instead, to see if it improves the request."
   ]
  },
  {
   "cell_type": "code",
   "execution_count": 94,
   "metadata": {},
   "outputs": [],
   "source": [
    "def gender_features(name):\n",
    "  \n",
    "    first_letter = name[0]\n",
    "    vowel_first_letter = first_letter in 'aeiou'\n",
    "    last_letter = name[-1]\n",
    "    next_to_last_letter = name[-2]\n",
    "    vowel_last_letter = last_letter in 'aeiou'\n",
    "    \n",
    "    vowels = \"\".join(sorted(list(set(re.sub(r'[^aeiou]', '', name)))))\n",
    "    consonants = \"\".join(sorted(list(set(re.sub(r'[aeiou]', '', name)))))\n",
    "    \n",
    "    bigrams = (ngrams(name, 2))\n",
    "    trigrams = (ngrams(name, 3))\n",
    "    \n",
    "    syllables = len(SSP.tokenize(name))\n",
    "    \n",
    "    return {\n",
    "        'first_letter': first_letter,\n",
    "        'vowel_first_letter': vowel_first_letter,\n",
    "        'last_letter': last_letter,\n",
    "        'next_to_last_letter': next_to_last_letter,\n",
    "        'vowel_last_letter': vowel_last_letter,\n",
    "        'vowels': vowels,\n",
    "        'consonants': consonants,\n",
    "        'bigrams': bigrams,\n",
    "        'trigrams': trigrams,\n",
    "        'syllables': syllables\n",
    "    }"
   ]
  },
  {
   "cell_type": "code",
   "execution_count": 95,
   "metadata": {},
   "outputs": [],
   "source": [
    "dev_test_features1 = [(gender_features(name), gender) for name, gender in dev_test1]\n",
    "training_features1 = [(gender_features(name), gender) for name, gender in training1]\n",
    "\n",
    "dev_test_features2 = [(gender_features(name), gender) for name, gender in dev_test2]\n",
    "training_features2 = [(gender_features(name), gender) for name, gender in training2]\n",
    "\n",
    "dev_test_features3 = [(gender_features(name), gender) for name, gender in dev_test3]\n",
    "training_features3 = [(gender_features(name), gender) for name, gender in training3]\n",
    "\n",
    "dev_test_features4 = [(gender_features(name), gender) for name, gender in dev_test4]\n",
    "training_features4 = [(gender_features(name), gender) for name, gender in training4]\n",
    "\n",
    "dev_test_features5 = [(gender_features(name), gender) for name, gender in dev_test5]\n",
    "training_features5 = [(gender_features(name), gender) for name, gender in training5]"
   ]
  },
  {
   "cell_type": "code",
   "execution_count": 96,
   "metadata": {},
   "outputs": [
    {
     "name": "stdout",
     "output_type": "stream",
     "text": [
      "  ==> Training (100 iterations)\n",
      "  ==> Training (100 iterations)\n",
      "  ==> Training (100 iterations)\n",
      "  ==> Training (100 iterations)\n",
      "  ==> Training (100 iterations)\n"
     ]
    }
   ],
   "source": [
    "classifier1v3 = nltk.MaxentClassifier.train(training_features1,trace=1)\n",
    "classifier2v3 = nltk.MaxentClassifier.train(training_features2,trace=1)\n",
    "classifier3v3 = nltk.MaxentClassifier.train(training_features3,trace=1)\n",
    "classifier4v3 = nltk.MaxentClassifier.train(training_features4,trace=1)\n",
    "classifier5v3 = nltk.MaxentClassifier.train(training_features5,trace=1)"
   ]
  },
  {
   "cell_type": "code",
   "execution_count": 97,
   "metadata": {},
   "outputs": [
    {
     "data": {
      "text/plain": [
       "0.862"
      ]
     },
     "execution_count": 97,
     "metadata": {},
     "output_type": "execute_result"
    },
    {
     "data": {
      "text/plain": [
       "0.844"
      ]
     },
     "execution_count": 97,
     "metadata": {},
     "output_type": "execute_result"
    },
    {
     "data": {
      "text/plain": [
       "0.83"
      ]
     },
     "execution_count": 97,
     "metadata": {},
     "output_type": "execute_result"
    },
    {
     "data": {
      "text/plain": [
       "0.838"
      ]
     },
     "execution_count": 97,
     "metadata": {},
     "output_type": "execute_result"
    },
    {
     "data": {
      "text/plain": [
       "0.852"
      ]
     },
     "execution_count": 97,
     "metadata": {},
     "output_type": "execute_result"
    }
   ],
   "source": [
    "nltk.classify.accuracy(classifier1v3, dev_test_features1)\n",
    "nltk.classify.accuracy(classifier2v3, dev_test_features2)\n",
    "nltk.classify.accuracy(classifier3v3, dev_test_features3)\n",
    "nltk.classify.accuracy(classifier4v3, dev_test_features4)\n",
    "nltk.classify.accuracy(classifier5v3, dev_test_features5)"
   ]
  },
  {
   "cell_type": "markdown",
   "metadata": {},
   "source": [
    "In some cases, improve the accuracy a bit if we add the next-to-last letter feature. But it behaves similar to when we use two-letter suffix."
   ]
  },
  {
   "cell_type": "markdown",
   "metadata": {},
   "source": [
    "### Final model evaluation"
   ]
  },
  {
   "cell_type": "markdown",
   "metadata": {},
   "source": [
    "I will verify the accuracy of the model on the final test data. I will use the model that I initially made. Without the two-letter suffix or next-to-last letter features, because these features did not substantially improve the accuracy of the model."
   ]
  },
  {
   "cell_type": "code",
   "execution_count": 98,
   "metadata": {},
   "outputs": [],
   "source": [
    "def gender_features(name):\n",
    "    \n",
    "    first_letter = name[0]\n",
    "    vowel_first_letter = first_letter in 'aeiou'\n",
    "    last_letter = name[-1]\n",
    "    vowel_last_letter = last_letter in 'aeiou'\n",
    "    \n",
    "    vowels = \"\".join(sorted(list(set(re.sub(r'[^aeiou]', '', name)))))\n",
    "    consonants = \"\".join(sorted(list(set(re.sub(r'[aeiou]', '', name)))))\n",
    "    \n",
    "    bigrams = (ngrams(name, 2))\n",
    "    trigrams = (ngrams(name, 3))\n",
    "    \n",
    "    syllables = len(SSP.tokenize(name))\n",
    "    \n",
    "    return {\n",
    "        'first_letter': first_letter,\n",
    "        'vowel_first_letter': vowel_first_letter,\n",
    "        'last_letter': last_letter,\n",
    "        'vowel_last_letter': vowel_last_letter,\n",
    "        'vowels': vowels,\n",
    "        'consonants': consonants,\n",
    "        'bigrams': bigrams,\n",
    "        'trigrams': trigrams,\n",
    "        'syllables': syllables\n",
    "    }\n",
    "\n",
    "final_test_features = [(gender_features(name), gender) for name, gender in final_test]"
   ]
  },
  {
   "cell_type": "code",
   "execution_count": 99,
   "metadata": {},
   "outputs": [
    {
     "data": {
      "text/plain": [
       "0.806"
      ]
     },
     "execution_count": 99,
     "metadata": {},
     "output_type": "execute_result"
    },
    {
     "data": {
      "text/plain": [
       "0.802"
      ]
     },
     "execution_count": 99,
     "metadata": {},
     "output_type": "execute_result"
    },
    {
     "data": {
      "text/plain": [
       "0.798"
      ]
     },
     "execution_count": 99,
     "metadata": {},
     "output_type": "execute_result"
    },
    {
     "data": {
      "text/plain": [
       "0.8"
      ]
     },
     "execution_count": 99,
     "metadata": {},
     "output_type": "execute_result"
    },
    {
     "data": {
      "text/plain": [
       "0.81"
      ]
     },
     "execution_count": 99,
     "metadata": {},
     "output_type": "execute_result"
    }
   ],
   "source": [
    "nltk.classify.accuracy(classifier1v1, final_test_features)\n",
    "nltk.classify.accuracy(classifier2v1, final_test_features)\n",
    "nltk.classify.accuracy(classifier3v1, final_test_features)\n",
    "nltk.classify.accuracy(classifier4v1, final_test_features)\n",
    "nltk.classify.accuracy(classifier5v1, final_test_features)"
   ]
  },
  {
   "cell_type": "markdown",
   "metadata": {},
   "source": [
    "Using the characteristics of the first letter, the first letter of the vowel, the last letter, the last letter of the vowel, the vowels, the consonants, the bigrams and the trigrams, the precision in the final test data is within 80 % and 81%."
   ]
  },
  {
   "cell_type": "markdown",
   "metadata": {},
   "source": [
    "I want to know if I had included the unisex names, the precision would have increased or decreased. Initially I think that my model has a higher precision by not having the unisex names included.\n",
    "\n",
    "I will verify this hypothesis:"
   ]
  },
  {
   "cell_type": "code",
   "execution_count": 100,
   "metadata": {},
   "outputs": [
    {
     "data": {
      "text/plain": [
       "454.0533736153072"
      ]
     },
     "execution_count": 100,
     "metadata": {},
     "output_type": "execute_result"
    },
    {
     "data": {
      "text/plain": [
       "45.94662638469285"
      ]
     },
     "execution_count": 100,
     "metadata": {},
     "output_type": "execute_result"
    }
   ],
   "source": [
    "((len(males) + len(females))/(len(males) + len(females) + len(unisex)*2))*500\n",
    "(len(unisex)*2/(len(males) + len(females) + len(unisex)*2))*500"
   ]
  },
  {
   "cell_type": "markdown",
   "metadata": {},
   "source": [
    "In total there are approximately 454 names that are unisex. For our list of 500 names there are approximately 46 names. So we are going to include 23 names as male and another 23 names that we are going to include in the list as female."
   ]
  },
  {
   "cell_type": "code",
   "execution_count": 101,
   "metadata": {},
   "outputs": [],
   "source": [
    "random.shuffle(unisex)\n",
    "unisex_as_male = [(name,'male') for name in unisex[:23]]\n",
    "unisex_as_female = [(name,'female') for name in unisex[23:46]]\n",
    "final_test = final_test[:454] + unisex_as_male + unisex_as_female"
   ]
  },
  {
   "cell_type": "code",
   "execution_count": 102,
   "metadata": {},
   "outputs": [
    {
     "data": {
      "text/plain": [
       "0.786"
      ]
     },
     "execution_count": 102,
     "metadata": {},
     "output_type": "execute_result"
    },
    {
     "data": {
      "text/plain": [
       "0.78"
      ]
     },
     "execution_count": 102,
     "metadata": {},
     "output_type": "execute_result"
    },
    {
     "data": {
      "text/plain": [
       "0.778"
      ]
     },
     "execution_count": 102,
     "metadata": {},
     "output_type": "execute_result"
    },
    {
     "data": {
      "text/plain": [
       "0.782"
      ]
     },
     "execution_count": 102,
     "metadata": {},
     "output_type": "execute_result"
    },
    {
     "data": {
      "text/plain": [
       "0.79"
      ]
     },
     "execution_count": 102,
     "metadata": {},
     "output_type": "execute_result"
    }
   ],
   "source": [
    "final_test_features = [(gender_features(name), gender) for name, gender in final_test]\n",
    "\n",
    "nltk.classify.accuracy(classifier1v1, final_test_features)\n",
    "nltk.classify.accuracy(classifier2v1, final_test_features)\n",
    "nltk.classify.accuracy(classifier3v1, final_test_features)\n",
    "nltk.classify.accuracy(classifier4v1, final_test_features)\n",
    "nltk.classify.accuracy(classifier5v1, final_test_features)"
   ]
  },
  {
   "cell_type": "markdown",
   "metadata": {},
   "source": [
    "The precision of the model decreases: it is 77% to 79% approx.\n",
    "\n",
    "I'm going to check if the classifier has a bias towards classifying unisex names as male or female."
   ]
  },
  {
   "cell_type": "code",
   "execution_count": 103,
   "metadata": {},
   "outputs": [
    {
     "data": {
      "text/plain": [
       "0.3452054794520548"
      ]
     },
     "execution_count": 103,
     "metadata": {},
     "output_type": "execute_result"
    },
    {
     "data": {
      "text/plain": [
       "0.34794520547945207"
      ]
     },
     "execution_count": 103,
     "metadata": {},
     "output_type": "execute_result"
    },
    {
     "data": {
      "text/plain": [
       "0.3315068493150685"
      ]
     },
     "execution_count": 103,
     "metadata": {},
     "output_type": "execute_result"
    },
    {
     "data": {
      "text/plain": [
       "0.3452054794520548"
      ]
     },
     "execution_count": 103,
     "metadata": {},
     "output_type": "execute_result"
    },
    {
     "data": {
      "text/plain": [
       "0.3506849315068493"
      ]
     },
     "execution_count": 103,
     "metadata": {},
     "output_type": "execute_result"
    }
   ],
   "source": [
    "unisex_as_male_features = [(gender_features(name), 'male') for name in unisex]\n",
    "\n",
    "nltk.classify.accuracy(classifier1v1, unisex_as_male_features)\n",
    "nltk.classify.accuracy(classifier2v1, unisex_as_male_features)\n",
    "nltk.classify.accuracy(classifier3v1, unisex_as_male_features)\n",
    "nltk.classify.accuracy(classifier4v1, unisex_as_male_features)\n",
    "nltk.classify.accuracy(classifier5v1, unisex_as_male_features)"
   ]
  },
  {
   "cell_type": "markdown",
   "metadata": {},
   "source": [
    "The classifier classifies approximately between 33% and 35% as male unisex names. Now I am going to verify how much is the percentage of classification of unisex names as female names."
   ]
  },
  {
   "cell_type": "code",
   "execution_count": 106,
   "metadata": {},
   "outputs": [
    {
     "data": {
      "text/plain": [
       "Counter({'male': 2578, 'female': 4636})"
      ]
     },
     "execution_count": 106,
     "metadata": {},
     "output_type": "execute_result"
    }
   ],
   "source": [
    "Counter([gender for name,gender in all_names])"
   ]
  },
  {
   "cell_type": "code",
   "execution_count": 107,
   "metadata": {},
   "outputs": [
    {
     "data": {
      "text/plain": [
       "0.35736068755198225"
      ]
     },
     "execution_count": 107,
     "metadata": {},
     "output_type": "execute_result"
    }
   ],
   "source": [
    "2578/(2578 + 4636)"
   ]
  },
  {
   "cell_type": "markdown",
   "metadata": {},
   "source": [
    "The classifier classifies approximately between 35% as female unisex names. It is similar to the classification of male names."
   ]
  },
  {
   "cell_type": "markdown",
   "metadata": {},
   "source": [
    "In conclusion, not using unisex names slightly improves the accuracy percentage of the model. Although it is not a very high difference, it does allow the model to be somewhat more precise when it comes to predicting whether a name is male or female."
   ]
  }
 ],
 "metadata": {
  "kernelspec": {
   "display_name": "Python 3 (ipykernel)",
   "language": "python",
   "name": "python3"
  },
  "language_info": {
   "codemirror_mode": {
    "name": "ipython",
    "version": 3
   },
   "file_extension": ".py",
   "mimetype": "text/x-python",
   "name": "python",
   "nbconvert_exporter": "python",
   "pygments_lexer": "ipython3",
   "version": "3.9.12"
  }
 },
 "nbformat": 4,
 "nbformat_minor": 2
}
